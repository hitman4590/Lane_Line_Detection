{
 "cells": [
  {
   "cell_type": "code",
   "execution_count": 2,
   "id": "404309ef-2d35-4aea-8398-57d6d8254a20",
   "metadata": {},
   "outputs": [
    {
     "name": "stdout",
     "output_type": "stream",
     "text": [
      "Requirement already satisfied: opencv-python in c:\\users\\hp\\anaconda\\lib\\site-packages (4.12.0.88)\n",
      "Requirement already satisfied: numpy<2.3.0,>=2 in c:\\users\\hp\\anaconda\\lib\\site-packages (from opencv-python) (2.1.3)\n",
      "Note: you may need to restart the kernel to use updated packages.\n"
     ]
    }
   ],
   "source": [
    "pip install opencv-python"
   ]
  },
  {
   "cell_type": "code",
   "execution_count": 3,
   "id": "f839021f-f718-4c84-8194-007dd91a8d08",
   "metadata": {},
   "outputs": [
    {
     "name": "stdout",
     "output_type": "stream",
     "text": [
      "Requirement already satisfied: opencv-contrib-python in c:\\users\\hp\\anaconda\\lib\\site-packages (4.12.0.88)Note: you may need to restart the kernel to use updated packages.\n",
      "\n",
      "Requirement already satisfied: numpy<2.3.0,>=2 in c:\\users\\hp\\anaconda\\lib\\site-packages (from opencv-contrib-python) (2.1.3)\n"
     ]
    }
   ],
   "source": [
    "pip install opencv-contrib-python"
   ]
  },
  {
   "cell_type": "code",
   "execution_count": 24,
   "id": "0036bf1b-655a-421c-93f2-63ee3aa6f86c",
   "metadata": {},
   "outputs": [],
   "source": [
    "\n",
    "import cv2\n",
    "import numpy as np\n",
    "import matplotlib.pyplot as plt\n",
    "from IPython.display import Video, display\n",
    "import os\n",
    "\n",
    "\n",
    "\n",
    "def canny(image):\n",
    "    gray = cv2.cvtColor(image, cv2.COLOR_RGB2GRAY)\n",
    "    blur = cv2.GaussianBlur(gray, (5, 5), 0)\n",
    "    canny_edges = cv2.Canny(blur, 50, 150)\n",
    "    return canny_edges\n",
    "\n",
    "def region_of_interest(image):\n",
    "    height = image.shape[0]\n",
    "    polygons = np.array([\n",
    "        [(100, height), (1180, height), (600, 380)]\n",
    "    ])\n",
    "    mask = np.zeros_like(image)\n",
    "    cv2.fillPoly(mask, polygons, 255)\n",
    "    masked_image = cv2.bitwise_and(image, mask)\n",
    "    return masked_image\n",
    "\n",
    "def display_lines(image, lines):\n",
    "    line_image = np.zeros_like(image)\n",
    "    if lines is not None:\n",
    "        for line in lines:\n",
    "            x1, y1, x2, y2 = line.reshape(4)\n",
    "            cv2.line(line_image, (x1, y1), (x2, y2), (0, 255, 0), 10)\n",
    "    return line_image\n",
    "\n",
    "def make_coordinates(image, line_parameters):\n",
    "    slope, intercept = line_parameters\n",
    "    y1 = image.shape[0]\n",
    "    y2 = int(y1 * (3 / 5))\n",
    "    x1 = int((y1 - intercept) / slope)\n",
    "    x2 = int((y2 - intercept) / slope)\n",
    "    return np.array([x1, y1, x2, y2])\n",
    "\n",
    "def average_slope_intercept(image, lines):\n",
    "    left_fit = []\n",
    "    right_fit = []\n",
    "    for line in lines:\n",
    "        x1, y1, x2, y2 = line.reshape(4)\n",
    "        params = np.polyfit((x1, x2), (y1, y2), 1)\n",
    "        slope, intercept = params\n",
    "        if slope < 0:\n",
    "            left_fit.append((slope, intercept))\n",
    "        else:\n",
    "            right_fit.append((slope, intercept))\n",
    "    \n",
    "    averaged_lines = []\n",
    "    if left_fit:\n",
    "        left_avg = np.mean(left_fit, axis=0)\n",
    "        averaged_lines.append(make_coordinates(image, left_avg))\n",
    "    if right_fit:\n",
    "        right_avg = np.mean(right_fit, axis=0)\n",
    "        averaged_lines.append(make_coordinates(image, right_avg))\n",
    "\n",
    "    return np.array(averaged_lines)\n",
    "\n",
    "def process_frame(frame):\n",
    "    canny_image = canny(frame)\n",
    "    cropped_image = region_of_interest(canny_image)\n",
    "    lines = cv2.HoughLinesP(cropped_image, 2, np.pi/180, 100, np.array([]), minLineLength=40, maxLineGap=5)\n",
    "    if lines is not None:\n",
    "        averaged_lines = average_slope_intercept(frame, lines)\n",
    "        line_image = display_lines(frame, averaged_lines)\n",
    "        combo_image = cv2.addWeighted(frame, 0.8, line_image, 1, 1)\n",
    "        return combo_image\n",
    "    return frame\n",
    "\n",
    "\n",
    "\n",
    "os.makedirs(\"output\", exist_ok=True)\n",
    "\n",
    "\n",
    "input_path = \"test_videos/solidYellowLeft.mp4\"\n",
    "output_path = \"output/lane_detected_output.mp4\"\n",
    "\n",
    "cap = cv2.VideoCapture(input_path)\n",
    "\n",
    "\n",
    "width  = int(cap.get(cv2.CAP_PROP_FRAME_WIDTH))\n",
    "height = int(cap.get(cv2.CAP_PROP_FRAME_HEIGHT))\n",
    "fps    = cap.get(cv2.CAP_PROP_FPS)\n",
    "\n",
    "fourcc = cv2.VideoWriter_fourcc(*'mp4v')\n",
    "out = cv2.VideoWriter(output_path, fourcc, fps, (width, height))\n",
    "\n",
    "while cap.isOpened():\n",
    "    ret, frame = cap.read()\n",
    "    if not ret or frame is None:\n",
    "        break\n",
    "\n",
    "    lane_frame = process_frame(frame)\n",
    "    out.write(lane_frame)\n",
    "\n",
    "cap.release()\n",
    "out.release()\n",
    "\n",
    "\n"
   ]
  },
  {
   "cell_type": "code",
   "execution_count": null,
   "id": "5649bc46-f802-41ae-a65e-a066338a618b",
   "metadata": {},
   "outputs": [],
   "source": []
  }
 ],
 "metadata": {
  "kernelspec": {
   "display_name": "Python [conda env:anaconda]",
   "language": "python",
   "name": "conda-env-anaconda-py"
  },
  "language_info": {
   "codemirror_mode": {
    "name": "ipython",
    "version": 3
   },
   "file_extension": ".py",
   "mimetype": "text/x-python",
   "name": "python",
   "nbconvert_exporter": "python",
   "pygments_lexer": "ipython3",
   "version": "3.13.5"
  }
 },
 "nbformat": 4,
 "nbformat_minor": 5
}
